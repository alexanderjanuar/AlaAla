{
 "cells": [
  {
   "cell_type": "markdown",
   "metadata": {},
   "source": [
    "### Import Library"
   ]
  },
  {
   "cell_type": "code",
   "execution_count": null,
   "metadata": {},
   "outputs": [],
   "source": [
    "import requests\n",
    "from bs4 import BeautifulSoup\n",
    "import pandas as pd"
   ]
  },
  {
   "cell_type": "markdown",
   "metadata": {},
   "source": [
    "### Request URL & Urai kode HTML dengan BeautifulSoup"
   ]
  },
  {
   "cell_type": "code",
   "execution_count": 42,
   "metadata": {},
   "outputs": [
    {
     "data": {
      "text/plain": [
       "'List of Pokémon (sprites gallery) | Pokémon Database'"
      ]
     },
     "execution_count": 42,
     "metadata": {},
     "output_type": "execute_result"
    }
   ],
   "source": [
    "#Base URL\n",
    "url = 'https://pokemondb.net/pokedex/national'\n",
    "\n",
    "def page(url):\n",
    "    r = requests.get(url)\n",
    "    html_doc = r.text\n",
    "    soup = BeautifulSoup(html_doc,'html.parser')\n",
    "    return soup\n",
    "Pokedex = page(url)\n",
    "Pokedex.title.text"
   ]
  },
  {
   "cell_type": "markdown",
   "metadata": {},
   "source": [
    "### Cari elemen menggunakan Tag Div"
   ]
  },
  {
   "cell_type": "code",
   "execution_count": null,
   "metadata": {},
   "outputs": [],
   "source": [
    "pokemon = Pokedex.find_all(\"div\", class_=\"infocard\")\n",
    "pokemon = pokemon[:50]\n",
    "pokemon[:5]"
   ]
  },
  {
   "cell_type": "markdown",
   "metadata": {},
   "source": [
    "### Inisiasi List Container"
   ]
  },
  {
   "cell_type": "code",
   "execution_count": 61,
   "metadata": {},
   "outputs": [],
   "source": [
    "NamaPokemon = []\n",
    "TipePokemon = []\n",
    "Health = []\n",
    "Attack = []\n",
    "Defense = []\n",
    "SpAtk = []\n",
    "SpDef = []\n",
    "Speed = []\n",
    "\n"
   ]
  },
  {
   "cell_type": "markdown",
   "metadata": {},
   "source": [
    "### Extract Text dari Elemen HTML"
   ]
  },
  {
   "cell_type": "code",
   "execution_count": 77,
   "metadata": {},
   "outputs": [],
   "source": [
    "ListStat = []\n",
    "\n",
    "for i in range(len(pokemon)):\n",
    "    Temp = []\n",
    "\n",
    "    #Cari Nama Pokemon\n",
    "    Nama = pokemon[i].find(\"a\", {\"class\":\"ent-name\"})\n",
    "    NamaPokemon.append(Nama.text)\n",
    "\n",
    "    #Cari Tipe Pokemon\n",
    "    Tipe = pokemon[i].find_all(\"small\")\n",
    "    TipePokemon.append(Tipe[1].find(\"a\").text)\n",
    "\n",
    "    #Cari Base Stat Pokemon\n",
    "    Link = \"https://pokemondb.net/\"+pokemon[i].find(\"span\", {\"class\":\"infocard-lg-img\"}).a[\"href\"]\n",
    "    PokeStat = page(Link)\n",
    "    PokeTable = PokeStat.find_all('table')\n",
    "    BaseStat = PokeTable[3].find_all('td',{\"class\":\"cell-num\"})\n",
    "\n",
    "    for j in range(0, len(BaseStat),3):\n",
    "        Temp.append(BaseStat[j].text)\n",
    "    ListStat.append(Temp)\n",
    "\n",
    "\n",
    "\n"
   ]
  },
  {
   "cell_type": "code",
   "execution_count": 71,
   "metadata": {},
   "outputs": [
    {
     "name": "stdout",
     "output_type": "stream",
     "text": [
      "Stat Bulbasaur:  ['45', '49', '49', '65', '65', '45']\n"
     ]
    }
   ],
   "source": [
    "print(\"Stat Bulbasaur: \",ListStat[0])\n",
    "for i in range(len(ListStat)):   \n",
    "    Health.append(ListStat[i][0])\n",
    "    Attack.append(ListStat[i][1])\n",
    "    Defense.append(ListStat[i][2])\n",
    "    SpAtk.append(ListStat[i][3])\n",
    "    SpDef.append(ListStat[i][4])\n",
    "    Speed.append(ListStat[i][5])\n"
   ]
  },
  {
   "cell_type": "code",
   "execution_count": 75,
   "metadata": {},
   "outputs": [
    {
     "name": "stdout",
     "output_type": "stream",
     "text": [
      "Nama    :  ['Bulbasaur', 'Ivysaur', 'Venusaur', 'Charmander', 'Charmeleon']\n",
      "Tipe    :  ['Grass', 'Grass', 'Grass', 'Fire', 'Fire']\n",
      "Health  :  ['45', '60', '80', '39', '58']\n",
      "Attack  :  ['49', '62', '82', '52', '64']\n",
      "Defence :  ['49', '63', '83', '43', '58']\n",
      "Sp.Atk  :  ['65', '80', '100', '60', '80']\n",
      "Sp.Def  :  ['65', '80', '100', '50', '65']\n",
      "Speed   :  ['45', '60', '80', '65', '80']\n"
     ]
    }
   ],
   "source": [
    "print(\"Nama    : \",NamaPokemon[0:5])\n",
    "print(\"Tipe    : \",TipePokemon[0:5])\n",
    "print(\"Health  : \",Health[0:5])\n",
    "print(\"Attack  : \",Attack[0:5])\n",
    "print(\"Defence : \",Defense[0:5])\n",
    "print(\"Sp.Atk  : \",SpAtk[0:5])\n",
    "print(\"Sp.Def  : \",SpDef[0:5])\n",
    "print(\"Speed   : \",Speed[0:5])"
   ]
  },
  {
   "cell_type": "code",
   "execution_count": 85,
   "metadata": {},
   "outputs": [
    {
     "data": {
      "text/html": [
       "<div>\n",
       "<style scoped>\n",
       "    .dataframe tbody tr th:only-of-type {\n",
       "        vertical-align: middle;\n",
       "    }\n",
       "\n",
       "    .dataframe tbody tr th {\n",
       "        vertical-align: top;\n",
       "    }\n",
       "\n",
       "    .dataframe thead th {\n",
       "        text-align: right;\n",
       "    }\n",
       "</style>\n",
       "<table border=\"1\" class=\"dataframe\">\n",
       "  <thead>\n",
       "    <tr style=\"text-align: right;\">\n",
       "      <th></th>\n",
       "      <th>Name</th>\n",
       "      <th>Type</th>\n",
       "      <th>Health</th>\n",
       "      <th>Attack</th>\n",
       "      <th>Defense</th>\n",
       "      <th>Sp.Atk</th>\n",
       "      <th>Sp.Def</th>\n",
       "      <th>Speed</th>\n",
       "    </tr>\n",
       "  </thead>\n",
       "  <tbody>\n",
       "    <tr>\n",
       "      <th>0</th>\n",
       "      <td>Bulbasaur</td>\n",
       "      <td>Grass</td>\n",
       "      <td>45</td>\n",
       "      <td>49</td>\n",
       "      <td>49</td>\n",
       "      <td>65</td>\n",
       "      <td>65</td>\n",
       "      <td>45</td>\n",
       "    </tr>\n",
       "    <tr>\n",
       "      <th>1</th>\n",
       "      <td>Ivysaur</td>\n",
       "      <td>Grass</td>\n",
       "      <td>60</td>\n",
       "      <td>62</td>\n",
       "      <td>63</td>\n",
       "      <td>80</td>\n",
       "      <td>80</td>\n",
       "      <td>60</td>\n",
       "    </tr>\n",
       "    <tr>\n",
       "      <th>2</th>\n",
       "      <td>Venusaur</td>\n",
       "      <td>Grass</td>\n",
       "      <td>80</td>\n",
       "      <td>82</td>\n",
       "      <td>83</td>\n",
       "      <td>100</td>\n",
       "      <td>100</td>\n",
       "      <td>80</td>\n",
       "    </tr>\n",
       "    <tr>\n",
       "      <th>3</th>\n",
       "      <td>Charmander</td>\n",
       "      <td>Fire</td>\n",
       "      <td>39</td>\n",
       "      <td>52</td>\n",
       "      <td>43</td>\n",
       "      <td>60</td>\n",
       "      <td>50</td>\n",
       "      <td>65</td>\n",
       "    </tr>\n",
       "    <tr>\n",
       "      <th>4</th>\n",
       "      <td>Charmeleon</td>\n",
       "      <td>Fire</td>\n",
       "      <td>58</td>\n",
       "      <td>64</td>\n",
       "      <td>58</td>\n",
       "      <td>80</td>\n",
       "      <td>65</td>\n",
       "      <td>80</td>\n",
       "    </tr>\n",
       "  </tbody>\n",
       "</table>\n",
       "</div>"
      ],
      "text/plain": [
       "         Name   Type Health Attack Defense Sp.Atk Sp.Def Speed\n",
       "0   Bulbasaur  Grass     45     49      49     65     65    45\n",
       "1     Ivysaur  Grass     60     62      63     80     80    60\n",
       "2    Venusaur  Grass     80     82      83    100    100    80\n",
       "3  Charmander   Fire     39     52      43     60     50    65\n",
       "4  Charmeleon   Fire     58     64      58     80     65    80"
      ]
     },
     "execution_count": 85,
     "metadata": {},
     "output_type": "execute_result"
    }
   ],
   "source": [
    "dictPokemon = {'Name':NamaPokemon,\n",
    "                'Type':TipePokemon,\n",
    "                'Health':Health,\n",
    "                'Attack':Attack,\n",
    "                'Defense':Defense,\n",
    "                'Sp.Atk':SpAtk,\n",
    "                'Sp.Def':SpDef,\n",
    "                'Speed':Speed}\n",
    "\n",
    "df = pd.DataFrame(dictPokemon)\n",
    "df.head()"
   ]
  },
  {
   "cell_type": "code",
   "execution_count": 66,
   "metadata": {},
   "outputs": [
    {
     "data": {
      "text/html": [
       "<div>\n",
       "<style scoped>\n",
       "    .dataframe tbody tr th:only-of-type {\n",
       "        vertical-align: middle;\n",
       "    }\n",
       "\n",
       "    .dataframe tbody tr th {\n",
       "        vertical-align: top;\n",
       "    }\n",
       "\n",
       "    .dataframe thead th {\n",
       "        text-align: right;\n",
       "    }\n",
       "</style>\n",
       "<table border=\"1\" class=\"dataframe\">\n",
       "  <thead>\n",
       "    <tr style=\"text-align: right;\">\n",
       "      <th></th>\n",
       "      <th>Name</th>\n",
       "      <th>Type</th>\n",
       "      <th>Health</th>\n",
       "      <th>Attack</th>\n",
       "      <th>Defense</th>\n",
       "      <th>Sp.Atk</th>\n",
       "      <th>Sp.Def</th>\n",
       "      <th>Speed</th>\n",
       "      <th>Total</th>\n",
       "    </tr>\n",
       "  </thead>\n",
       "  <tbody>\n",
       "    <tr>\n",
       "      <th>5</th>\n",
       "      <td>Charizard</td>\n",
       "      <td>Fire</td>\n",
       "      <td>78</td>\n",
       "      <td>84</td>\n",
       "      <td>78</td>\n",
       "      <td>109</td>\n",
       "      <td>109</td>\n",
       "      <td>100</td>\n",
       "      <td>558</td>\n",
       "    </tr>\n",
       "    <tr>\n",
       "      <th>2</th>\n",
       "      <td>Venusaur</td>\n",
       "      <td>Grass</td>\n",
       "      <td>80</td>\n",
       "      <td>82</td>\n",
       "      <td>83</td>\n",
       "      <td>100</td>\n",
       "      <td>100</td>\n",
       "      <td>80</td>\n",
       "      <td>525</td>\n",
       "    </tr>\n",
       "    <tr>\n",
       "      <th>33</th>\n",
       "      <td>Nidoking</td>\n",
       "      <td>Poison</td>\n",
       "      <td>81</td>\n",
       "      <td>102</td>\n",
       "      <td>77</td>\n",
       "      <td>85</td>\n",
       "      <td>85</td>\n",
       "      <td>85</td>\n",
       "      <td>515</td>\n",
       "    </tr>\n",
       "    <tr>\n",
       "      <th>8</th>\n",
       "      <td>Blastoise</td>\n",
       "      <td>Water</td>\n",
       "      <td>79</td>\n",
       "      <td>83</td>\n",
       "      <td>100</td>\n",
       "      <td>85</td>\n",
       "      <td>85</td>\n",
       "      <td>78</td>\n",
       "      <td>510</td>\n",
       "    </tr>\n",
       "    <tr>\n",
       "      <th>44</th>\n",
       "      <td>Vileplume</td>\n",
       "      <td>Grass</td>\n",
       "      <td>75</td>\n",
       "      <td>80</td>\n",
       "      <td>85</td>\n",
       "      <td>110</td>\n",
       "      <td>110</td>\n",
       "      <td>50</td>\n",
       "      <td>510</td>\n",
       "    </tr>\n",
       "  </tbody>\n",
       "</table>\n",
       "</div>"
      ],
      "text/plain": [
       "         Name    Type  Health  Attack  Defense  Sp.Atk  Sp.Def  Speed  Total\n",
       "5   Charizard    Fire      78      84       78     109     109    100    558\n",
       "2    Venusaur   Grass      80      82       83     100     100     80    525\n",
       "33   Nidoking  Poison      81     102       77      85      85     85    515\n",
       "8   Blastoise   Water      79      83      100      85      85     78    510\n",
       "44  Vileplume   Grass      75      80       85     110     110     50    510"
      ]
     },
     "execution_count": 66,
     "metadata": {},
     "output_type": "execute_result"
    }
   ],
   "source": [
    "df['Health'] = df['Health'].astype(int)\n",
    "df['Attack'] = df['Attack'].astype(int)\n",
    "df['Defense'] = df['Defense'].astype(int)\n",
    "df['Sp.Atk'] = df['Sp.Atk'].astype(int)\n",
    "df['Sp.Def'] = df['Sp.Atk'].astype(int)\n",
    "df['Speed'] = df['Speed'].astype(int)\n",
    "\n",
    "df['Total'] = df['Health'] + df['Attack'] + df['Defense'] + df['Sp.Atk'] + df['Sp.Def'] + df['Speed']\n",
    "\n",
    "df.sort_values('Total',ascending=False).head()"
   ]
  },
  {
   "cell_type": "code",
   "execution_count": 86,
   "metadata": {},
   "outputs": [],
   "source": [
    "df.to_csv('PokemonExample.csv',index=False)"
   ]
  }
 ],
 "metadata": {
  "interpreter": {
   "hash": "1d5c1156327dacead463cc502c55ebae8ce9c8c01979cf154173ff808e75bf55"
  },
  "kernelspec": {
   "display_name": "Python 3.9.7 64-bit",
   "language": "python",
   "name": "python3"
  },
  "language_info": {
   "codemirror_mode": {
    "name": "ipython",
    "version": 3
   },
   "file_extension": ".py",
   "mimetype": "text/x-python",
   "name": "python",
   "nbconvert_exporter": "python",
   "pygments_lexer": "ipython3",
   "version": "3.9.7"
  },
  "orig_nbformat": 4
 },
 "nbformat": 4,
 "nbformat_minor": 2
}
